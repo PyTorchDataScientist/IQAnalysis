{
 "cells": [
  {
   "cell_type": "code",
   "execution_count": 3,
   "id": "1cc1497f",
   "metadata": {},
   "outputs": [],
   "source": [
    "import sqlite3\n",
    "def adder(id,name,cat,date,result,pop):\n",
    "    try:\n",
    "        sqlite_connection = sqlite3.connect('sqlite_python.db')##GTrends\n",
    "        sqlite_create_table_query = \"\"\"INSERT INTO GT(id,name,category,date,score,popular) VALUES (?,?,?,?,?,?)\"\"\"\n",
    "        cursor = sqlite_connection.cursor()\n",
    "        print(\"База данных подключена к SQLite\")\n",
    "        data_tuple=(id,name,cat,date,result,pop)\n",
    "        cursor.execute(sqlite_create_table_query,data_tuple)\n",
    "        sqlite_connection.commit()\n",
    "        print(\"Добавлена дэйта!\")\n",
    "        cursor.close()\n",
    "    except sqlite3.Error as error:\n",
    "        print(\"Ошибка при подключении к sqlite\", error)\n",
    "    finally:\n",
    "        if (sqlite_connection):\n",
    "            sqlite_connection.close()\n",
    "            print(\"Соединение с SQLite закрыто\")\n",
    "def edit(date,result,pop,id):\n",
    "    try:\n",
    "        sqlite_connection = sqlite3.connect('sqlite_python.db')##GTrends\n",
    "        sqlite_create_table_query = \"\"\"Update GT set date = ?, score = ?, popular = ? where id = ?\"\"\"\n",
    "        cursor = sqlite_connection.cursor()\n",
    "        print(\"База данных подключена к SQLite\")\n",
    "        data_tuple=(date,result,pop,id)\n",
    "        cursor.execute(sqlite_create_table_query,data_tuple)\n",
    "        sqlite_connection.commit()\n",
    "        print(\"Отредачена дэйта!\")\n",
    "        cursor.close()\n",
    "    except sqlite3.Error as error:\n",
    "        print(\"Ошибка при подключении к sqlite\", error)\n",
    "    finally:\n",
    "        if (sqlite_connection):\n",
    "            sqlite_connection.close()\n",
    "            print(\"Соединение с SQLite закрыто\")"
   ]
  },
  {
   "cell_type": "code",
   "execution_count": 242,
   "id": "0f90fc0a",
   "metadata": {},
   "outputs": [
    {
     "name": "stdout",
     "output_type": "stream",
     "text": [
      "99.06103286384976\n",
      "26.0\n",
      "                           Category: All categories\n",
      "Country      Obfuscation: (18/12/2020 - 18/12/2021)\n",
      "China                                           100\n",
      "South Korea                                      14\n",
      "Hong Kong                                         7\n",
      "Singapore                                         6\n",
      "...                                             ...\n",
      "Brazil                                            1\n",
      "Iraq                                              1\n",
      "Nigeria                                           1\n",
      "Mexico                                            1\n",
      "Iran                                              1\n",
      "\n",
      "[72 rows x 1 columns]\n",
      "                       Category: All categories\n",
      "Country  Obfuscation: (18/12/2020 - 18/12/2021)\n",
      "База данных подключена к SQLite\n",
      "Ошибка при подключении к sqlite UNIQUE constraint failed: GT.id\n",
      "Соединение с SQLite закрыто\n",
      "База данных подключена к SQLite\n",
      "Отредачена дэйта!\n",
      "Соединение с SQLite закрыто\n"
     ]
    }
   ],
   "source": [
    "import pandas as pd   #высокий iq ##из данных 2012 года richard lynn\n",
    "import sqlite3\n",
    "### следующие 3 строки обязательны к ручному заполнению\n",
    "fp='C:/Users/CodeMaker/Downloads/geoMap (17).csv'\n",
    "gt_id='q=%2Fm%2F05pmt'\n",
    "#category=None\n",
    "category='Online game'\n",
    "###\n",
    "dl=pd.read_csv(fp)\n",
    "dl=dl.drop(labels=['American Samoa','Anguilla','Antarctica','Aruba','Bosnia & Herzegovina','Bouvet Island','British Indian Ocean Territory','British Virgin Islands','Caribbean Netherlands','Cayman Islands','Christmas Island','Cocos (Keeling) Islands','Curaçao','Eswatini','Falkland Islands (Islas Malvinas)','Faroe Islands','French Guiana','French Polynesia','French Southern Territories','Gibraltar','Guadeloupe','Guam','Guernsey','Heard & McDonald Islands','Isle of Man','Jersey','Kosovo','Macao','Martinique','Mayotte','Monaco','Montserrat','Nauru','Niue','Norfolk Island','North Macedonia','Northern Mariana Islands','Palau','Papua New Guinea','Pitcairn Islands','Puerto Rico','Réunion','St Barthélemy','St Helena','St Martin','St Pierre & Miquelon','Sint Maarten','South Georgia & South Sandwich Islands','South Sudan','Svalbard & Jan Mayen','Timor-Leste','Tokelau','Turks & Caicos Islands','Tuvalu','US Outlying Islands','US Virgin Islands','Åland Islands','Wallis & Futuna','Western Sahara','Vatican City','San Marino'])\n",
    "df=dl.dropna(axis = 0, how ='any')\n",
    "count_row = df.shape[0]\n",
    "ex=df.iloc[0:1,0:1]\n",
    "exs=df.iloc[0:count_row,0:1]\n",
    "if (\"Singapore\" in exs.index) and (\"Hong Kong\" in exs.index) and (\"China\" in exs.index) and (float(df.loc[\"Hong Kong\",'Category: All categories'])>=6) and (float(df.loc[\"China\",'Category: All categories'])>=6) and (float(df.loc[\"Singapore\",'Category: All categories'])>=6):\n",
    "    a=exs.index.get_loc(\"Singapore\")\n",
    "    b=exs.index.get_loc(\"Hong Kong\")\n",
    "    c=exs.index.get_loc(\"China\")\n",
    "    fi=(count_row-1)-(a+b+c-6)/3\n",
    "    li=(count_row-1)/fi\n",
    "    bo=100/li\n",
    "    res=(float(df.loc['Hong Kong','Category: All categories'])+float(df.loc['China','Category: All categories'])+float(df.loc['Singapore','Category: All categories'])+float(df.loc['Taiwan','Category: All categories'])+float(df.loc['South Korea','Category: All categories']))/5\n",
    "    print(bo) #баллы по 100 бальной шкале интеллектуальности\n",
    "    print(res)\n",
    "    gtn=(df.loc['Country','Category: All categories']).split(\":\")[0]\n",
    "    gtd=(df.loc['Country','Category: All categories']).split(\":\")[1]   \n",
    "ba=(count_row-1)    \n",
    "print(exs) #вывод стран\n",
    "print(ex) #вывод шапки\n",
    "if (bo>=93.75):\n",
    "    adder(gt_id,gtn,category,gtd,bo,count_row-1)\n",
    "    edit(gtd,bo,count_row-1,gt_id)\n"
   ]
  },
  {
   "cell_type": "code",
   "execution_count": 5,
   "id": "4f736858",
   "metadata": {},
   "outputs": [
    {
     "name": "stdout",
     "output_type": "stream",
     "text": [
      "База данных подключена к SQLite\n",
      "Добавлена дэйта!\n",
      "Соединение с SQLite закрыто\n",
      "База данных подключена к SQLite\n",
      "Отредачена дэйта!\n",
      "Соединение с SQLite закрыто\n"
     ]
    }
   ],
   "source": [
    "if (bo>=93.75):\n",
    "    adder(gt_id,gtn,category,gtd,bo,count_row-1)\n",
    "    edit(gtd,bo,count_row-1,gt_id)"
   ]
  },
  {
   "cell_type": "code",
   "execution_count": 47,
   "id": "a1af250d",
   "metadata": {},
   "outputs": [
    {
     "name": "stdout",
     "output_type": "stream",
     "text": [
      "61\n"
     ]
    }
   ],
   "source": [
    "labels=['American Samoa','Anguilla','Antarctica','Aruba','Bosnia & Herzegovina','Bouvet Island','British Indian Ocean Territory','British Virgin Islands','Caribbean Netherlands','Cayman Islands','Christmas Island','Cocos (Keeling) Islands','CuraГ§ao','Eswatini','Falkland Islands (Islas Malvinas)','Faroe Islands','French Guiana','French Polynesia','French Southern Territories','Gibraltar','Guadeloupe','Guam','Guernsey','Heard & McDonald Islands','Isle of Man','Jersey','Kosovo','Macao','Martinique','Mayotte','Monaco','Montserrat','Nauru','Niue','Norfolk Island','North Macedonia','Northern Mariana Islands','Palau','Papua New Guinea','Pitcairn Islands','Puerto Rico','RГ©union','St BarthГ©lemy','St Helena','St Martin','St Pierre & Miquelon','Sint Maarten','South Georgia & South Sandwich Islands','South Sudan','Svalbard & Jan Mayen','Timor-Leste','Tokelau','Turks & Caicos Islands','Tuvalu','US Outlying Islands','US Virgin Islands','Г…land Islands','Wallis & Futuna','Western Sahara','Vatican City','San Marino']\n",
    "print(len(labels))"
   ]
  },
  {
   "cell_type": "code",
   "execution_count": 87,
   "id": "b580a361",
   "metadata": {},
   "outputs": [
    {
     "name": "stdout",
     "output_type": "stream",
     "text": [
      "База данных подключена к SQLite\n",
      "Отредачена дэйта!\n",
      "Соединение с SQLite закрыто\n"
     ]
    }
   ],
   "source": [
    "    try:\n",
    "        sqlite_connection = sqlite3.connect('sqlite_python.db')##GTrends\n",
    "        sqlite_create_table_query = \"\"\"Select name \"\"\"\n",
    "        cursor = sqlite_connection.cursor()\n",
    "        print(\"База данных подключена к SQLite\")\n",
    "        cursor.execute(sqlite_create_table_query)\n",
    "        sqlite_connection.commit()\n",
    "        print(\"Отредачена дэйта!\")\n",
    "        cursor.close()\n",
    "    except sqlite3.Error as error:\n",
    "        print(\"Ошибка при подключении к sqlite\", error)\n",
    "    finally:\n",
    "        if (sqlite_connection):\n",
    "            sqlite_connection.close()\n",
    "            print(\"Соединение с SQLite закрыто\")"
   ]
  },
  {
   "cell_type": "code",
   "execution_count": null,
   "id": "3cdf6278",
   "metadata": {},
   "outputs": [],
   "source": []
  }
 ],
 "metadata": {
  "kernelspec": {
   "display_name": "Python 3 (ipykernel)",
   "language": "python",
   "name": "python3"
  },
  "language_info": {
   "codemirror_mode": {
    "name": "ipython",
    "version": 3
   },
   "file_extension": ".py",
   "mimetype": "text/x-python",
   "name": "python",
   "nbconvert_exporter": "python",
   "pygments_lexer": "ipython3",
   "version": "3.8.0"
  }
 },
 "nbformat": 4,
 "nbformat_minor": 5
}
